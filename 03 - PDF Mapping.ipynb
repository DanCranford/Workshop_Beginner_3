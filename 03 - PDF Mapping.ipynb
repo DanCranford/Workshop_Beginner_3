{
 "cells": [
  {
   "cell_type": "code",
   "execution_count": 1,
   "metadata": {},
   "outputs": [],
   "source": [
    "import arcpy"
   ]
  },
  {
   "cell_type": "markdown",
   "metadata": {},
   "source": [
    "Here, we'll look at how to use arcpy to make maps using a project that already has a layout with a map series setup.\n",
    "\n",
    "https://pro.arcgis.com/en/pro-app/arcpy/mapping/mapseries-class.htm\n",
    "\n",
    "https://pro.arcgis.com/en/pro-app/help/layouts/map-series.htm\n",
    "\n"
   ]
  },
  {
   "cell_type": "code",
   "execution_count": 14,
   "metadata": {},
   "outputs": [],
   "source": [
    "# Load the project\n",
    "project_path = r\".\\Beginner_Week_3.aprx\"\n",
    "project = arcpy.mp.ArcGISProject(project_path)\n",
    "\n",
    "layouts = project.listLayouts()"
   ]
  },
  {
   "cell_type": "code",
   "execution_count": 15,
   "metadata": {},
   "outputs": [
    {
     "name": "stdout",
     "output_type": "stream",
     "text": [
      "True\n"
     ]
    }
   ],
   "source": [
    "# Get the layout with a map series\n",
    "for layout in layouts:\n",
    "    if not layout.mapSeries is None:\n",
    "        print(layout.mapSeries.enabled)"
   ]
  },
  {
   "cell_type": "code",
   "execution_count": 16,
   "metadata": {},
   "outputs": [
    {
     "data": {
      "text/plain": [
       "<arcpy._mp.Layout at 0x132e4908>"
      ]
     },
     "execution_count": 16,
     "metadata": {},
     "output_type": "execute_result"
    }
   ],
   "source": [
    "layout"
   ]
  },
  {
   "cell_type": "markdown",
   "metadata": {},
   "source": [
    "Now we'll have to fix some data sources (because I didn't set up my ArcGIS Pro Project very well)"
   ]
  },
  {
   "cell_type": "code",
   "execution_count": 17,
   "metadata": {
    "scrolled": true
   },
   "outputs": [
    {
     "name": "stdout",
     "output_type": "stream",
     "text": [
      "Highways_Intersect C:\\Desktop\\GIS_STUFF\\Workshops\\Workshop_Beginner_3\\Week_2_Data.gdb\\Highways_Intersect True\n",
      "Counties C:\\Desktop\\GIS_STUFF\\Workshops\\Workshop_Beginner_3\\Week_2_Data.gdb\\Counties True\n"
     ]
    }
   ],
   "source": [
    "# check for broken layers (layers with no source)\n",
    "\n",
    "for layer in layout.mapSeries.mapFrame.map.listLayers():\n",
    "    if layer.name in ['Highways_Intersect','Counties']:\n",
    "        print(layer.name, layer.dataSource, layer.isBroken)"
   ]
  },
  {
   "cell_type": "code",
   "execution_count": 26,
   "metadata": {},
   "outputs": [
    {
     "name": "stdout",
     "output_type": "stream",
     "text": [
      "Highways_Intersect C:\\Users\\DPCN\\Documents\\GitHub\\Workshop_Beginner_3\\Week_2_Data.gdb\\Highways_Intersect False\n",
      "Counties C:\\Users\\DPCN\\Documents\\GitHub\\Workshop_Beginner_3\\Week_2_Data.gdb\\Counties False\n"
     ]
    }
   ],
   "source": [
    "# reset the source for broken layers\n",
    "\n",
    "for layer in layout.mapSeries.mapFrame.map.listLayers():\n",
    "    if layer.name in ['Highways_Intersect','Counties']:\n",
    "        layer.updateConnectionProperties(r'C:\\Desktop\\GIS_STUFF\\Workshops\\Workshop_Beginner_3','.')\n",
    "        print(layer.name, layer.dataSource, layer.isBroken)\n",
    "project.save()"
   ]
  },
  {
   "cell_type": "markdown",
   "metadata": {},
   "source": [
    "Now we'll find the title so we can change the map title for the page we want to export."
   ]
  },
  {
   "cell_type": "code",
   "execution_count": 20,
   "metadata": {
    "scrolled": true
   },
   "outputs": [
    {
     "name": "stdout",
     "output_type": "stream",
     "text": [
      "[<arcpy._mp.TextElement object at 0x00000000132E4828>, <arcpy._mp.TextElement object at 0x00000000132E4CC0>, <arcpy._mp.MapFrame object at 0x00000000132E4710>]\n"
     ]
    }
   ],
   "source": [
    "print(layout.listElements())\n",
    "title = layout.listElements()[0]"
   ]
  },
  {
   "cell_type": "markdown",
   "metadata": {},
   "source": [
    "Now we can use the pages in our map series to get the page for a specific county."
   ]
  },
  {
   "cell_type": "code",
   "execution_count": 27,
   "metadata": {},
   "outputs": [],
   "source": [
    "ms = layout.mapSeries"
   ]
  },
  {
   "cell_type": "code",
   "execution_count": 28,
   "metadata": {
    "scrolled": true
   },
   "outputs": [
    {
     "data": {
      "text/plain": [
       "0"
      ]
     },
     "execution_count": 28,
     "metadata": {},
     "output_type": "execute_result"
    }
   ],
   "source": [
    "ms.currentPageNumber"
   ]
  },
  {
   "cell_type": "code",
   "execution_count": 29,
   "metadata": {},
   "outputs": [],
   "source": [
    "county = 'Marin County'"
   ]
  },
  {
   "cell_type": "code",
   "execution_count": 40,
   "metadata": {},
   "outputs": [],
   "source": [
    "ms.currentPageNumber =  ms.getPageNumberFromName(county)"
   ]
  },
  {
   "cell_type": "markdown",
   "metadata": {},
   "source": [
    "And we can filter the roads layer so we only see roads in the county we want"
   ]
  },
  {
   "cell_type": "code",
   "execution_count": 19,
   "metadata": {},
   "outputs": [],
   "source": [
    "for layer in layout.mapSeries.mapFrame.map.listLayers():\n",
    "    if layer.name == 'Highways_Intersect':\n",
    "        roads_layer = layer"
   ]
  },
  {
   "cell_type": "code",
   "execution_count": 31,
   "metadata": {},
   "outputs": [],
   "source": [
    "roads_layer.definitionQuery = \"NAMELSAD = '{}'\".format(county)\n",
    "title.text = county\n"
   ]
  },
  {
   "cell_type": "code",
   "execution_count": 41,
   "metadata": {
    "scrolled": true
   },
   "outputs": [
    {
     "data": {
      "text/plain": [
       "'./Marin County.pdf'"
      ]
     },
     "execution_count": 41,
     "metadata": {},
     "output_type": "execute_result"
    }
   ],
   "source": [
    "ms.exportToPDF('./{}.pdf'.format(county), 'CURRENT')"
   ]
  },
  {
   "cell_type": "code",
   "execution_count": null,
   "metadata": {},
   "outputs": [],
   "source": []
  }
 ],
 "metadata": {
  "kernelspec": {
   "display_name": "Python 3",
   "language": "python",
   "name": "python3"
  },
  "language_info": {
   "codemirror_mode": {
    "name": "ipython",
    "version": 3
   },
   "file_extension": ".py",
   "mimetype": "text/x-python",
   "name": "python",
   "nbconvert_exporter": "python",
   "pygments_lexer": "ipython3",
   "version": "3.6.8"
  }
 },
 "nbformat": 4,
 "nbformat_minor": 2
}
