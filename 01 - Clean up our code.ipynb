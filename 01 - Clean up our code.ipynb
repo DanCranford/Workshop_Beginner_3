{
 "cells": [
  {
   "cell_type": "markdown",
   "metadata": {},
   "source": [
    "Let's take a look at the working code we had from last week.  At the end of our last session, we could run this cell and create a new folder and excel/kmz combo.  If we tried to run this in a new notebook, though, we'd get all kinds of errors."
   ]
  },
  {
   "cell_type": "code",
   "execution_count": null,
   "metadata": {},
   "outputs": [],
   "source": [
    "\n",
    "# county_to_export = input('Which County? ')\n",
    "\n",
    "# # let's make a new folder\n",
    "# new_folder = arcpy.management.CreateFolder('.', county_to_export)\n",
    "# query_2 = \"NAMELSAD = '{}'\".format(county_to_export)\n",
    "# lyrx = r'./Highways.lyrx'\n",
    "# flyr = arcpy.management.MakeFeatureLayer(fc_intersect, county_to_export, query_2)\n",
    "\n",
    "# arcpy.management.ApplySymbologyFromLayer(flyr, lyrx)\n",
    "\n",
    "# # we can modify our path out to use the new folder we made\n",
    "# arcpy.conversion.LayerToKML(flyr, r'./{}/{} Highways.kmz'.format(county_to_export, county_to_export))\n",
    "# arcpy.conversion.TableToExcel(flyr, r'./{}/{} Highways.xls'.format(county_to_export, county_to_export))\n",
    "# print('done')\n"
   ]
  },
  {
   "cell_type": "markdown",
   "metadata": {},
   "source": [
    "So now, let's assume we want to turn this thing into a re-useable tool.  So we need to figure out what dependencies we have and make this work again.\n"
   ]
  },
  {
   "cell_type": "code",
   "execution_count": 8,
   "metadata": {},
   "outputs": [],
   "source": [
    "def export_county_data(county_to_export, input_fc, output_folder, symbology_layer):\n",
    "    '''\n",
    "    This function creates a feature layer for a single county's highways.\n",
    "    It exports that data into kmz and excel files.\n",
    "    \n",
    "    INPUTS:\n",
    "    county_to_export : string - county which you would like to export\n",
    "    input_fc : feature class - highway data with county attributed\n",
    "    output_folder : string/folder path - folder where we want to create files\n",
    "    symbology_layer : .lyr/.lyrx file - file with symbology stored for highways\n",
    "    \n",
    "    '''\n",
    "    \n",
    "    # create a new folder\n",
    "    new_folder = arcpy.management.CreateFolder(output_folder, county_to_export)\n",
    "    \n",
    "    # generate a query for the data from the county input\n",
    "    query = \"NAMELSAD = '{}'\".format(county_to_export)\n",
    "    \n",
    "    # create a feature layer for just the county we want\n",
    "    flyr = arcpy.management.MakeFeatureLayer(input_fc, county_to_export, query)\n",
    "    \n",
    "    # add symbology to that feature layer\n",
    "    arcpy.management.ApplySymbologyFromLayer(flyr, symbology_layer)\n",
    "    \n",
    "    # export kmz\n",
    "    arcpy.conversion.LayerToKML(flyr, r'{}/{}/{} Highways.kmz'.format(output_folder, county_to_export, county_to_export))\n",
    "    \n",
    "    # export excel\n",
    "    arcpy.conversion.TableToExcel(flyr, r'{}/{}/{} Highways.xls'.format(output_folder, county_to_export, county_to_export))\n",
    "    \n",
    "    return new_folder\n",
    "    "
   ]
  },
  {
   "cell_type": "markdown",
   "metadata": {},
   "source": [
    "So now we're going to get all our data back from last week.  We're going to build file paths based on the path to our new workshop folder.  Check out the different ways we can generate a file path.  \n",
    "\n",
    "Here's some documentation on <code> os.path.join() </code>\n",
    "\n",
    "https://www.geeksforgeeks.org/python-os-path-join-method/"
   ]
  },
  {
   "cell_type": "code",
   "execution_count": 7,
   "metadata": {},
   "outputs": [
    {
     "name": "stdout",
     "output_type": "stream",
     "text": [
      "File Geodatabase Exists?:  True\n",
      "Feature Class Exists:  True\n",
      "Layer Exists:  True\n"
     ]
    }
   ],
   "source": [
    "import arcpy\n",
    "\n",
    "# setting the workshop folder as '.' will set the folder to the folder that this notebook exists in.\n",
    "workshop_folder = '.'\n",
    "\n",
    "# now we'll create a path to the file geodatabase (relative to the folder we set)\n",
    "# this is super useful.  we're creating a bunch of new variables based on one input.\n",
    "fgdb = workshop_folder +'\\\\'+ 'Week_2_Data.gdb'\n",
    "print('File Geodatabase Exists?: ',arcpy.Exists(fgdb))\n",
    "\n",
    "# another (I think cleaner) way to make file paths is using the os.path.join function\n",
    "import os\n",
    "fc_hwy_intersect = os.path.join(fgdb, 'Highways_Intersect')\n",
    "print('Feature Class Exists: ', arcpy.Exists(fc_hwy_intersect))\n",
    "\n",
    "# and lastly, let's grab the layer for symbology\n",
    "lyrx = os.path.join(workshop_folder, 'Highways.lyrx')\n",
    "print('Layer Exists: ', arcpy.Exists(lyrx))"
   ]
  },
  {
   "cell_type": "code",
   "execution_count": 9,
   "metadata": {
    "scrolled": false
   },
   "outputs": [
    {
     "ename": "AttributeError",
     "evalue": "'ToolValidator' object has no attribute 'isLicensed'",
     "output_type": "error",
     "traceback": [
      "\u001b[1;31m---------------------------------------------------------------------------\u001b[0m",
      "\u001b[1;31mAttributeError\u001b[0m                            Traceback (most recent call last)",
      "\u001b[1;32mc:\\program files\\arcgis\\pro\\Resources\\ArcToolbox\\toolboxes\\Conversion Tools.tbx#TableToExcel_conversion.InitializeParameters.py\u001b[0m in \u001b[0;36m<module>\u001b[1;34m\u001b[0m\n",
      "\u001b[1;31mAttributeError\u001b[0m: 'ToolValidator' object has no attribute 'isLicensed'"
     ]
    },
    {
     "ename": "AttributeError",
     "evalue": "'ToolValidator' object has no attribute 'isLicensed'",
     "output_type": "error",
     "traceback": [
      "\u001b[1;31m---------------------------------------------------------------------------\u001b[0m",
      "\u001b[1;31mAttributeError\u001b[0m                            Traceback (most recent call last)",
      "\u001b[1;32mc:\\program files\\arcgis\\pro\\Resources\\ArcToolbox\\toolboxes\\Conversion Tools.tbx#TableToExcel_conversion.InitializeParameters.py\u001b[0m in \u001b[0;36m<module>\u001b[1;34m\u001b[0m\n",
      "\u001b[1;31mAttributeError\u001b[0m: 'ToolValidator' object has no attribute 'isLicensed'"
     ]
    }
   ],
   "source": [
    "new_folder = export_county_data('Alameda County',\n",
    "                               fc_hwy_intersect,\n",
    "                               r'C:\\Users\\dcraw\\Desktop\\GIS_STUFF\\Workshops\\scratch',\n",
    "                               lyrx)"
   ]
  },
  {
   "cell_type": "code",
   "execution_count": 13,
   "metadata": {},
   "outputs": [
    {
     "name": "stdout",
     "output_type": "stream",
     "text": [
      ".\\Week_2_Data.gdb\\Highways_Intersect\n",
      ".\\Highways.lyrx\n"
     ]
    }
   ],
   "source": [
    "print(fc_hwy_intersect)\n",
    "print(lyrx)"
   ]
  },
  {
   "cell_type": "markdown",
   "metadata": {},
   "source": [
    "Now let's set this up to be a tool."
   ]
  },
  {
   "cell_type": "code",
   "execution_count": 14,
   "metadata": {},
   "outputs": [
    {
     "name": "stdout",
     "output_type": "stream",
     "text": [
      "Enter a county: San Francisco County\n",
      "Path to Feature Class: .\\Week_2_Data.gdb\\Highways_Intersect\n",
      "Output Folder: C:\\Users\\dcraw\\Desktop\\GIS_STUFF\\Workshops\\scratch\n",
      "Path to Symbology Layer: .\\Highways.lyrx\n"
     ]
    },
    {
     "ename": "AttributeError",
     "evalue": "'ToolValidator' object has no attribute 'isLicensed'",
     "output_type": "error",
     "traceback": [
      "\u001b[1;31m---------------------------------------------------------------------------\u001b[0m",
      "\u001b[1;31mAttributeError\u001b[0m                            Traceback (most recent call last)",
      "\u001b[1;32mc:\\program files\\arcgis\\pro\\Resources\\ArcToolbox\\toolboxes\\Conversion Tools.tbx#TableToExcel_conversion.InitializeParameters.py\u001b[0m in \u001b[0;36m<module>\u001b[1;34m\u001b[0m\n",
      "\u001b[1;31mAttributeError\u001b[0m: 'ToolValidator' object has no attribute 'isLicensed'"
     ]
    },
    {
     "ename": "AttributeError",
     "evalue": "'ToolValidator' object has no attribute 'isLicensed'",
     "output_type": "error",
     "traceback": [
      "\u001b[1;31m---------------------------------------------------------------------------\u001b[0m",
      "\u001b[1;31mAttributeError\u001b[0m                            Traceback (most recent call last)",
      "\u001b[1;32mc:\\program files\\arcgis\\pro\\Resources\\ArcToolbox\\toolboxes\\Conversion Tools.tbx#TableToExcel_conversion.InitializeParameters.py\u001b[0m in \u001b[0;36m<module>\u001b[1;34m\u001b[0m\n",
      "\u001b[1;31mAttributeError\u001b[0m: 'ToolValidator' object has no attribute 'isLicensed'"
     ]
    },
    {
     "data": {
      "text/plain": [
       "<Result 'C:\\\\Users\\\\dcraw\\\\Desktop\\\\GIS_STUFF\\\\Workshops\\\\scratch\\\\San Francisco County'>"
      ]
     },
     "execution_count": 14,
     "metadata": {},
     "output_type": "execute_result"
    }
   ],
   "source": [
    "county = input('Enter a county: ')\n",
    "fc_intersect = input('Path to Feature Class: ')\n",
    "output_folder = input('Output Folder: ')\n",
    "symbol_layer = input('Path to Symbology Layer: ')\n",
    "\n",
    "export_county_data(county,\n",
    "                   fc_intersect,\n",
    "                   output_folder,\n",
    "                   symbol_layer)\n"
   ]
  },
  {
   "cell_type": "code",
   "execution_count": null,
   "metadata": {},
   "outputs": [],
   "source": []
  }
 ],
 "metadata": {
  "kernelspec": {
   "display_name": "Python 3",
   "language": "python",
   "name": "python3"
  },
  "language_info": {
   "codemirror_mode": {
    "name": "ipython",
    "version": 3
   },
   "file_extension": ".py",
   "mimetype": "text/x-python",
   "name": "python",
   "nbconvert_exporter": "python",
   "pygments_lexer": "ipython3",
   "version": "3.6.9"
  }
 },
 "nbformat": 4,
 "nbformat_minor": 2
}
