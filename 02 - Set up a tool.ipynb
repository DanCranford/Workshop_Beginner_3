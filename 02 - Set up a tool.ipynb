{
 "cells": [
  {
   "cell_type": "code",
   "execution_count": null,
   "metadata": {},
   "outputs": [],
   "source": [
    "def export_county_data(county_to_export, input_fc, output_folder, symbology_layer):\n",
    "    '''\n",
    "    This function creates a feature layer for a single county's highways.\n",
    "    It exports that data into kmz and excel files.\n",
    "    \n",
    "    INPUTS:\n",
    "    county_to_export : string - county which you would like to export\n",
    "    input_fc : feature class - highway data with county attributed\n",
    "    output_folder : string/folder path - folder where we want to create files\n",
    "    symbology_layer : .lyr/.lyrx file - file with symbology stored for highways\n",
    "    \n",
    "    '''\n",
    "    \n",
    "    # create a new folder\n",
    "    new_folder = arcpy.management.CreateFolder(output_folder, county_to_export)\n",
    "    \n",
    "    # generate a query for the data from the county input\n",
    "    query = \"NAMELSAD = '{}'\".format(county_to_export)\n",
    "    \n",
    "    # create a feature layer for just the county we want\n",
    "    flyr = arcpy.management.MakeFeatureLayer(input_fc, county_to_export, query)\n",
    "    \n",
    "    # add symbology to that feature layer\n",
    "    arcpy.management.ApplySymbologyFromLayer(flyr, symbology_layer)\n",
    "    \n",
    "    # export kmz\n",
    "    arcpy.conversion.LayerToKML(flyr, r'{}/{}/{} Highways.kmz'.format(output_folder, county_to_export, county_to_export))\n",
    "    \n",
    "    # export excel\n",
    "    arcpy.conversion.TableToExcel(flyr, r'{}/{}/{} Highways.xls'.format(output_folder, county_to_export, county_to_export))\n",
    "    \n",
    "    return new_folder"
   ]
  },
  {
   "cell_type": "code",
   "execution_count": null,
   "metadata": {},
   "outputs": [],
   "source": [
    "import arcpy"
   ]
  },
  {
   "cell_type": "code",
   "execution_count": null,
   "metadata": {},
   "outputs": [],
   "source": [
    "county = arcpy.GetParameterAsText(0)\n",
    "fc_intersect = arcpy.GetParameterAsText(1)\n",
    "output_folder = arcpy.GetParameterAsText(2)\n",
    "symbol_layer = arcpy.GetParameterAsText(3)"
   ]
  },
  {
   "cell_type": "code",
   "execution_count": null,
   "metadata": {},
   "outputs": [],
   "source": []
  },
  {
   "cell_type": "code",
   "execution_count": null,
   "metadata": {},
   "outputs": [],
   "source": [
    "arcpy.AddMessage('Starting Export...')"
   ]
  },
  {
   "cell_type": "code",
   "execution_count": null,
   "metadata": {},
   "outputs": [],
   "source": [
    "export_county_data(county,\n",
    "                   fc_intersect,\n",
    "                   output_folder,\n",
    "                   symbol_layer)"
   ]
  }
 ],
 "metadata": {
  "kernelspec": {
   "display_name": "Python 3",
   "language": "python",
   "name": "python3"
  },
  "language_info": {
   "codemirror_mode": {
    "name": "ipython",
    "version": 3
   },
   "file_extension": ".py",
   "mimetype": "text/x-python",
   "name": "python",
   "nbconvert_exporter": "python",
   "pygments_lexer": "ipython3",
   "version": "3.6.9"
  }
 },
 "nbformat": 4,
 "nbformat_minor": 2
}
